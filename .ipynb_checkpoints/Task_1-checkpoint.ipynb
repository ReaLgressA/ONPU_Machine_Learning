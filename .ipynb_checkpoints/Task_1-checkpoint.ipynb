{
 "cells": [
  {
   "cell_type": "markdown",
   "metadata": {},
   "source": [
    "## Generate arrays X and Y\n",
    "*30 elements each.\n",
    "x,y ∈ [-20; 20]*"
   ]
  },
  {
   "cell_type": "code",
   "execution_count": 37,
   "metadata": {},
   "outputs": [
    {
     "name": "stdout",
     "output_type": "stream",
     "text": [
      "Array X:\n",
      "[-15  10 -10 -17  15  15 -12   3  16  -2  11   9  11 -14  -1  -4  -1  16\n",
      "   4 -13  10  -5  -4   1 -13 -16 -10 -10  17 -17]\n",
      "Array Y:\n",
      "[ -7 -14 -16 -11  12   9 -12   5   9   4  19   5  10   8   1 -11  11  15\n",
      "   8 -12  16   1   8   1  -9  -9 -17 -11 -13  15]\n"
     ]
    }
   ],
   "source": [
    "import numpy as np\n",
    "n = 30\n",
    "x = np.random.randint(-20, 20, size=(n))\n",
    "y = np.random.randint(-20, 20, size=(n))\n",
    "print \"Array X:\"\n",
    "print x\n",
    "print \"Array Y:\"\n",
    "print y\n"
   ]
  },
  {
   "cell_type": "markdown",
   "metadata": {},
   "source": [
    "## Show elements of array X as a plot of green dots"
   ]
  },
  {
   "cell_type": "code",
   "execution_count": 39,
   "metadata": {},
   "outputs": [
    {
     "data": {
      "image/png": "[encoded data removed]",
      "text/plain": [
       "<matplotlib.figure.Figure at 0x7319a70>"
      ]
     },
     "metadata": {},
     "output_type": "display_data"
    }
   ],
   "source": [
    "import matplotlib.pyplot as plt\n",
    "plt.plot(np.arange(len(x)), x, 'go')\n",
    "plt.show()"
   ]
  },
  {
   "cell_type": "markdown",
   "metadata": {},
   "source": [
    "## Implement quicksort\n"
   ]
  },
  {
   "cell_type": "code",
   "execution_count": 27,
   "metadata": {},
   "outputs": [],
   "source": [
    "def partition(arr, start, end):\n",
    "    pivot = start\n",
    "    for i in xrange(start + 1, end + 1):\n",
    "        if arr[i] <= arr[start]:\n",
    "            pivot += 1\n",
    "            arr[i], arr[pivot] = arr[pivot], arr[i]\n",
    "    arr[pivot], arr[start] = arr[start], arr[pivot]\n",
    "    return pivot\n",
    "\n",
    "def qsort(arr):\n",
    "    def _qsort(arr, start, end):\n",
    "        if start >= end:\n",
    "            return\n",
    "        pivot = partition(arr, start, end)\n",
    "        _qsort(arr, start, pivot-1)\n",
    "        _qsort(arr, pivot+1, end)\n",
    "    return _qsort(arr, 0, len(arr) - 1)"
   ]
  },
  {
   "cell_type": "markdown",
   "metadata": {},
   "source": [
    "## Sort array X and display it as a plot of red dots"
   ]
  },
  {
   "cell_type": "code",
   "execution_count": 40,
   "metadata": {},
   "outputs": [
    {
     "name": "stdout",
     "output_type": "stream",
     "text": [
      "Array X:\n",
      "[-17 -17 -16 -15 -14 -13 -13 -12 -10 -10 -10  -5  -4  -4  -2  -1  -1   1\n",
      "   3   4   9  10  10  11  11  15  15  16  16  17]\n"
     ]
    },
    {
     "data": {
      "image/png": "[encoded data removed]",
      "text/plain": [
       "<matplotlib.figure.Figure at 0x6b12c50>"
      ]
     },
     "metadata": {},
     "output_type": "display_data"
    }
   ],
   "source": [
    "qsort(x)\n",
    "print \"Array X:\"\n",
    "print x\n",
    "plt.plot(np.arange(len(x)), x, 'ro')\n",
    "plt.show()"
   ]
  },
  {
   "cell_type": "code",
   "execution_count": null,
   "metadata": {},
   "outputs": [],
   "source": []
  }
 ],
 "metadata": {
  "kernelspec": {
   "display_name": "Python 2",
   "language": "python",
   "name": "python2"
  },
  "language_info": {
   "codemirror_mode": {
    "name": "ipython",
    "version": 2
   },
   "file_extension": ".py",
   "mimetype": "text/x-python",
   "name": "python",
   "nbconvert_exporter": "python",
   "pygments_lexer": "ipython2",
   "version": "2.7.14"
  }
 },
 "nbformat": 4,
 "nbformat_minor": 2
}
