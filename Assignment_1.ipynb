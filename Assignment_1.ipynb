{
 "cells": [
  {
   "cell_type": "markdown",
   "metadata": {},
   "source": [
    "## Generate arrays X and Y\n",
    "*30 elements each.\n",
    "x,y ∈ [-20; 20]*"
   ]
  },
  {
   "cell_type": "code",
   "execution_count": 53,
   "metadata": {},
   "outputs": [
    {
     "name": "stdout",
     "output_type": "stream",
     "text": [
      "Array X:\n",
      "[-14   6  11  18  -2   8  12   2  18  -1  15   5  16 -15 -17 -17  -8  17\n",
      " -20  12  19  -6   1  16   2   5 -15  13   7 -11]\n",
      "Array Y:\n",
      "[ -5 -18   2   2 -15  -7 -19 -14   2  19   6 -18  13  18 -10 -13  11 -17\n",
      "  17  18 -19  18  13 -14   0  -6  13 -10 -12  -8]\n"
     ]
    }
   ],
   "source": [
    "import numpy as np\n",
    "n = 30\n",
    "x = np.random.randint(-20, 20, size=(n))\n",
    "y = np.random.randint(-20, 20, size=(n))\n",
    "print \"Array X:\"\n",
    "print x\n",
    "print \"Array Y:\"\n",
    "print y\n"
   ]
  },
  {
   "cell_type": "markdown",
   "metadata": {},
   "source": [
    "## Show elements of arrays as a plot of green dots"
   ]
  },
  {
   "cell_type": "code",
   "execution_count": 54,
   "metadata": {},
   "outputs": [
    {
     "data": {
      "image/png": "[encoded data removed]",
      "text/plain": [
       "<matplotlib.figure.Figure at 0x72961f0>"
      ]
     },
     "metadata": {},
     "output_type": "display_data"
    }
   ],
   "source": [
    "import matplotlib.pyplot as plt\n",
    "plt.plot(x, y, 'go')\n",
    "plt.show()"
   ]
  },
  {
   "cell_type": "markdown",
   "metadata": {},
   "source": [
    "## Implement quicksort\n"
   ]
  },
  {
   "cell_type": "code",
   "execution_count": 27,
   "metadata": {},
   "outputs": [],
   "source": [
    "def partition(arr, start, end):\n",
    "    pivot = start\n",
    "    for i in xrange(start + 1, end + 1):\n",
    "        if arr[i] <= arr[start]:\n",
    "            pivot += 1\n",
    "            arr[i], arr[pivot] = arr[pivot], arr[i]\n",
    "    arr[pivot], arr[start] = arr[start], arr[pivot]\n",
    "    return pivot\n",
    "\n",
    "def qsort(arr):\n",
    "    def _qsort(arr, start, end):\n",
    "        if start >= end:\n",
    "            return\n",
    "        pivot = partition(arr, start, end)\n",
    "        _qsort(arr, start, pivot-1)\n",
    "        _qsort(arr, pivot+1, end)\n",
    "    return _qsort(arr, 0, len(arr) - 1)"
   ]
  },
  {
   "cell_type": "markdown",
   "metadata": {},
   "source": [
    "## Sort arrays and display them as a plot of red dots"
   ]
  },
  {
   "cell_type": "code",
   "execution_count": 55,
   "metadata": {},
   "outputs": [
    {
     "name": "stdout",
     "output_type": "stream",
     "text": [
      "Array X:\n",
      "[-20 -17 -17 -15 -15 -14 -11  -8  -6  -2  -1   1   2   2   5   5   6   7\n",
      "   8  11  12  12  13  15  16  16  17  18  18  19]\n",
      "Array Y:\n",
      "[-19 -19 -18 -18 -17 -15 -14 -14 -13 -12 -10 -10  -8  -7  -6  -5   0   2\n",
      "   2   2   6  11  13  13  13  17  18  18  18  19]\n"
     ]
    },
    {
     "data": {
      "image/png": "[encoded data removed]",
      "text/plain": [
       "<matplotlib.figure.Figure at 0x6e9dcf0>"
      ]
     },
     "metadata": {},
     "output_type": "display_data"
    }
   ],
   "source": [
    "qsort(x)\n",
    "qsort(y)\n",
    "print \"Array X:\"\n",
    "print x\n",
    "print \"Array Y:\"\n",
    "print y\n",
    "plt.plot(x, y, 'ro')\n",
    "plt.show()"
   ]
  },
  {
   "cell_type": "code",
   "execution_count": null,
   "metadata": {},
   "outputs": [],
   "source": []
  },
  {
   "cell_type": "code",
   "execution_count": null,
   "metadata": {},
   "outputs": [],
   "source": []
  },
  {
   "cell_type": "code",
   "execution_count": null,
   "metadata": {},
   "outputs": [],
   "source": []
  }
 ],
 "metadata": {
  "kernelspec": {
   "display_name": "Python 2",
   "language": "python",
   "name": "python2"
  },
  "language_info": {
   "codemirror_mode": {
    "name": "ipython",
    "version": 2
   },
   "file_extension": ".py",
   "mimetype": "text/x-python",
   "name": "python",
   "nbconvert_exporter": "python",
   "pygments_lexer": "ipython2",
   "version": "2.7.14"
  }
 },
 "nbformat": 4,
 "nbformat_minor": 2
}
