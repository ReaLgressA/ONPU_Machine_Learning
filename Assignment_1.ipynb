{
 "cells": [
  {
   "cell_type": "markdown",
   "metadata": {},
   "source": [
    "## Generate arrays X and Y\n",
    "*30 elements each.\n",
    "x,y ∈ [-20; 20]*"
   ]
  },
  {
   "cell_type": "code",
   "execution_count": 4,
   "metadata": {},
   "outputs": [
    {
     "name": "stdout",
     "output_type": "stream",
     "text": [
      "Array X:\n",
      "[  2  19  -6 -19   5 -13 -19  -4 -16   9   7  11 -17 -16  10   5  -8  19\n",
      "   8  -6  19  -2  -7   1   3  -2  16  -3 -15  -5]\n",
      "Array Y:\n",
      "[-11 -19 -17  -7  18 -17  11  -7 -12  -6  11   9 -17  -6 -12 -11   9  -2\n",
      " -12  17  19  -2  -6 -19 -14 -13 -14   3  -7   4]\n"
     ]
    }
   ],
   "source": [
    "import numpy as np\n",
    "n = 30\n",
    "x = np.random.randint(-20, 20, size=(n))\n",
    "y = np.random.randint(-20, 20, size=(n))\n",
    "print \"Array X:\"\n",
    "print x\n",
    "print \"Array Y:\"\n",
    "print y\n"
   ]
  },
  {
   "cell_type": "markdown",
   "metadata": {},
   "source": [
    "## Show elements of arrays as a plot of green dots"
   ]
  },
  {
   "cell_type": "code",
   "execution_count": 12,
   "metadata": {},
   "outputs": [
    {
     "data": {
      "image/png": "[encoded data removed]",
      "text/plain": [
       "<matplotlib.figure.Figure at 0xe540c18>"
      ]
     },
     "metadata": {},
     "output_type": "display_data"
    }
   ],
   "source": [
    "import matplotlib.pyplot as plt\n",
    "x = [ 2, 0, -2, 11, -9, 18, 9, 7, 18, -13]\n",
    "y = [ 18, -13, 14, -8, -1, -10, 12, -12, -14, -13]\n",
    "plt.plot(x, y, 'go')\n",
    "plt.show()"
   ]
  },
  {
   "cell_type": "markdown",
   "metadata": {},
   "source": [
    "## Implement quicksort\n"
   ]
  },
  {
   "cell_type": "code",
   "execution_count": 6,
   "metadata": {},
   "outputs": [],
   "source": [
    "def partition(arr, start, end):\n",
    "    pivot = start\n",
    "    for i in xrange(start + 1, end + 1):\n",
    "        if arr[i] <= arr[start]:\n",
    "            pivot += 1\n",
    "            arr[i], arr[pivot] = arr[pivot], arr[i]\n",
    "    arr[pivot], arr[start] = arr[start], arr[pivot]\n",
    "    return pivot\n",
    "\n",
    "def qsort(arr):\n",
    "    def _qsort(arr, start, end):\n",
    "        if start >= end:\n",
    "            return\n",
    "        pivot = partition(arr, start, end)\n",
    "        _qsort(arr, start, pivot-1)\n",
    "        _qsort(arr, pivot+1, end)\n",
    "    return _qsort(arr, 0, len(arr) - 1)"
   ]
  },
  {
   "cell_type": "markdown",
   "metadata": {},
   "source": [
    "## Sort arrays and display them as a plot of red dots"
   ]
  },
  {
   "cell_type": "code",
   "execution_count": 9,
   "metadata": {},
   "outputs": [
    {
     "name": "stdout",
     "output_type": "stream",
     "text": [
      "Array X:\n",
      "[-13, -9, -2, 0, 2, 7, 9, 11, 18, 18]\n",
      "Array Y:\n",
      "[18, -13, 14, -8, -1, -10, 12, -12, -14, -13]\n"
     ]
    },
    {
     "data": {
      "image/png": "[encoded data removed]",
      "text/plain": [
       "<matplotlib.figure.Figure at 0xe387cc0>"
      ]
     },
     "metadata": {},
     "output_type": "display_data"
    }
   ],
   "source": [
    "x = [ 2, 0, -2, 11, -9, 18, 9, 7, 18, -13]\n",
    "y = [ 18, -13, 14, -8, -1, -10, 12, -12, -14, -13]\n",
    "qsort(x)\n",
    "print \"Array X:\"\n",
    "print x\n",
    "print \"Array Y:\"\n",
    "print y\n",
    "plt.plot(x, y, 'ro')\n",
    "plt.show()"
   ]
  },
  {
   "cell_type": "code",
   "execution_count": null,
   "metadata": {},
   "outputs": [],
   "source": []
  },
  {
   "cell_type": "code",
   "execution_count": null,
   "metadata": {},
   "outputs": [],
   "source": []
  },
  {
   "cell_type": "code",
   "execution_count": 11,
   "metadata": {},
   "outputs": [
    {
     "name": "stdout",
     "output_type": "stream",
     "text": [
      "[ 80 -11  84  28  38  52  -9  36 -56  10]\n"
     ]
    }
   ],
   "source": [
    "a = np.random.randint(-100, 100, 10)\n",
    "print(y)"
   ]
  },
  {
   "cell_type": "code",
   "execution_count": null,
   "metadata": {},
   "outputs": [],
   "source": []
  }
 ],
 "metadata": {
  "kernelspec": {
   "display_name": "Python 2",
   "language": "python",
   "name": "python2"
  },
  "language_info": {
   "codemirror_mode": {
    "name": "ipython",
    "version": 2
   },
   "file_extension": ".py",
   "mimetype": "text/x-python",
   "name": "python",
   "nbconvert_exporter": "python",
   "pygments_lexer": "ipython2",
   "version": "2.7.14"
  }
 },
 "nbformat": 4,
 "nbformat_minor": 2
}
